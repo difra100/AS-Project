{
  "cells": [
    {
      "cell_type": "markdown",
      "id": "4fmrN5VAWUrJ",
      "metadata": {
        "id": "4fmrN5VAWUrJ"
      },
      "source": [
        "# Neural Network project, 2022\n",
        "## - Artist similarity with Graph Neural Networks (re-implementation)\n",
        "- Andrea Giuseppe Di Francesco, 1836928\n",
        "- Giuliano Giampietro, 2024160\n",
        "\n",
        "* In this notebook we present a complete re-implementation of the paper ['Artist similarity with Graph Neural Network'](https://arxiv.org/abs/2107.14541). \n",
        "* Since the project's code wasn't provided by the authors, except for the [dataset](https://gitlab.com/fdlm/olga://paperswithcode.com/paper/artist-similarity-with-graph-neural-networks), we attempted to repeat the experiments described in the paper, and we have additionally tried 4 additional GNNs architectures, provided by the Phd student Indro Spinelli.\n"
      ]
    },
    {
      "cell_type": "markdown",
      "id": "serwR-KUl2Ym",
      "metadata": {
        "id": "serwR-KUl2Ym"
      },
      "source": [
        "## - Importing the libraries\n",
        "\n",
        "In the following cell we import the libraries that we used to carry out our experiments, and to extract the dataset. Since we worked with the Graph Neural Networks (GNN), it was very helpful to use the [pytorch geometric library](https://pytorch-geometric.readthedocs.io/en/latest/modules/nn.html), that contains a lot of useful classes that implement the most famous GNNs architectures."
      ]
    },
    {
      "cell_type": "code",
      "execution_count": 1,
      "id": "d8aee866",
      "metadata": {},
      "outputs": [
        {
          "name": "stdout",
          "output_type": "stream",
          "text": [
            "1.12.1\n"
          ]
        },
        {
          "name": "stderr",
          "output_type": "stream",
          "text": [
            "/home/peppe/anaconda3/envs/my_env/lib/python3.10/site-packages/tqdm/auto.py:22: TqdmWarning: IProgress not found. Please update jupyter and ipywidgets. See https://ipywidgets.readthedocs.io/en/stable/user_install.html\n",
            "  from .autonotebook import tqdm as notebook_tqdm\n"
          ]
        }
      ],
      "source": [
        "# !pip install plotly\n",
        "# !pip install musicbrainzngs\n",
        "# !pip install torchmetrics\n",
        "# !pip install spacy-sentence-bert\n",
        "import os\n",
        "import torch\n",
        "os.environ['TORCH'] = torch.__version__\n",
        "print(torch.__version__)\n",
        "# !pip install -q torch-scatter -f https://data.pyg.org/whl/torch-${TORCH}.html\n",
        "# !pip install -q torch-sparse -f https://data.pyg.org/whl/torch-${TORCH}.html\n",
        "# !pip install -q git+https://github.com/pyg-team/pytorch_geometric.git"
      ]
    },
    {
      "cell_type": "code",
      "execution_count": 78,
      "id": "9e657a64",
      "metadata": {
        "colab": {
          "base_uri": "https://localhost:8080/"
        },
        "id": "9e657a64",
        "outputId": "263c1dba-6510-4de0-dcae-62182872e4b6"
      },
      "outputs": [],
      "source": [
        "import numpy as np\n",
        "import plotly.express as px\n",
        "import plotly.graph_objects as go\n",
        "import json\n",
        "import pandas as pd\n",
        "import torch.nn as nn\n",
        "import torch.nn.functional as F\n",
        "from torchmetrics.functional import pairwise_euclidean_distance\n",
        "# from torch_geometric.nn import GATConv, SAGEConv\n",
        "import numpy as np\n",
        "import plotly.express as px\n",
        "import plotly.graph_objects as go\n",
        "import json\n",
        "import torch\n",
        "import torch.nn as nn\n",
        "import torch.nn.functional as F\n",
        "from torch.optim import lr_scheduler\n",
        "import random\n",
        "from random import choice,randrange\n",
        "import matplotlib.pyplot as plt\n",
        "from sklearn.neighbors import NearestNeighbors\n",
        "import math\n",
        "import time\n",
        "from collections import Counter\n",
        "\n",
        "# from torch_geometric.nn import GCNConv,GraphConv,GATConv,SAGEConv\n",
        "import musicbrainzngs as mbr\n",
        "import spacy_sentence_bert\n",
        "from utils import *\n",
        "\n",
        "random_seed=80085\n",
        "\n",
        "random.seed(random_seed)\n",
        "np.random.seed(random_seed)\n",
        "torch.manual_seed(random_seed)\n",
        "sentence_selector = spacy_sentence_bert.load_model('en_stsb_roberta_base')\n"
      ]
    },
    {
      "cell_type": "markdown",
      "id": "cbd20535",
      "metadata": {
        "id": "cbd20535"
      },
      "source": [
        "## Loading of the dataset Olga\n",
        "\n",
        " - In the next cell there is the raw dataset provided by the paper's authors **'Artist similarity with Graph Neural Networks'**.\n",
        " - Along the columns we have information about the [Musicbrainz_id](https://musicbrainz.org/) of an artist, its partition in the dataset (train,val,test), and the [AcousticBrainz](https://acousticbrainz.org/) low level features of the artist, taken from a sample of 25 songs. \n",
        " - Unfortunately, at the best of our efforts, it was not possible to recover all the information that were described in the [paper](https://arxiv.org/pdf/2107.14541.pdf). Indeed the artists contained in Olga are 17.673, whereas we were able to extract [Allmusic](https://www.allmusic.com/) ids only from 11.261 artists. \n",
        "\n"
      ]
    },
    {
      "cell_type": "code",
      "execution_count": 79,
      "id": "9c407599",
      "metadata": {
        "id": "9c407599"
      },
      "outputs": [],
      "source": [
        "olga=pd.read_csv('olga.csv')\n",
        "#train 0-14138, #val 14139-15905, #test 15906-17673 (indices)\n",
        "# olga[:30]\n",
        "\n",
        "# mbr.auth('ggiamp', 'fallinggiant')\n",
        "# mbr.set_useragent(\n",
        "#     \"python-musicbrainzngs-example\",\n",
        "#     \"0.1\",\n",
        "#     \"https://github.com/alastair/python-musicbrainzngs/\",\n",
        "# )"
      ]
    },
    {
      "cell_type": "markdown",
      "id": "08648966",
      "metadata": {
        "id": "08648966"
      },
      "source": [
        "### How do we retrieve the Graph topology?\n",
        "\n",
        "- Thanks to the musicbrainz_id of each artist, we can get the link to its AllMusic profile, and from there we get also the information about its related artists. Each AllMusic link is related to a unique artist, indeed we can spot a 12 numbers identifier for each of these.\n",
        "- After having obtained the AllMusic link for each artist in the dataset (if exists), we want to associate to each artist its related ones. We do this just for those that can be re-mapped in the dataset's musicbrainz_ids, because we have associated tracks features for those.\n",
        "- Also this passage is probably very lossy, in fact, for each artist there could be a lot of similar artists (according to the AllMusic information), but we don't have the feature vectors for all of them.\n",
        "- The following class contains methods that extract information about all the artists in the dataset, but the price to pay is a high computational cost. \n",
        "For this reason it was run just once, and the information was stored in different files, such as 'MsbMapped.json', 'graphSimilarities.json', 'dizofartist.json'."
      ]
    },
    {
      "cell_type": "code",
      "execution_count": 80,
      "id": "01a6ee17",
      "metadata": {},
      "outputs": [],
      "source": [
        "occurrencies = load_data('occurrencies_real.json')\n",
        "art_genre = load_data('artist_genres.json')\n",
        "metadata = load_data('metadata.json')\n",
        "genres = metadata['genre']\n",
        "transitions = metadata['transitions']\n",
        "data_genres = load_data('dataset_genres.json')\n",
        "\n",
        "\n",
        "\n",
        "##############################################\n",
        "# ol.get_the_Kmost_rated_genre(occurrencies, 150)"
      ]
    },
    {
      "cell_type": "code",
      "execution_count": 81,
      "id": "3712d1b8",
      "metadata": {
        "id": "3712d1b8",
        "scrolled": false
      },
      "outputs": [],
      "source": [
        "class DatasetOlga(): #In this class, we obtain through different methods the main characteristics of the graph of artists\n",
        "                    # thanks to the available information in the olga dataset\n",
        "    def __init__(self,olga):\n",
        "        self.olga=olga\n",
        "        self.mb=olga.musicbrainz_id\n",
        "        self.artists={} #Needed for obtaining the mapping from musicbrainz to the allmusic ids\n",
        "        self.l=len(self.mb)\n",
        "        self.d={}       #Needed for obtaining a dict. where keys are artists, and values are the artists similar to them, based on self.artists\n",
        "        self.NI={}      #Dict. that will contain the artist's features\n",
        "    \n",
        "    def get_mapping(self,i):                                                                                                 #This method returns the allmusic page of an artist (if exists), given his id from the dataset \n",
        "        response = requests.get(f'https://musicbrainz.org/ws/2/artist/{str(self.mb[i])}?inc=url-rels&fmt=json')\n",
        "        if response.ok:\n",
        "            data = response.json()\n",
        "            refs = [r['url']['resource'] for r in data['relations'] if r['type'] == 'allmusic']        \n",
        "            return refs[0] if len(refs) != 0 else \"Not found\"\n",
        "\n",
        "    def get_artist_name(self,i):                                                                                                 #This method returns the allmusic page of an artist (if exists), given his id from the dataset \n",
        "        response = requests.get(f'https://musicbrainz.org/ws/2/artist/{str(self.mb[i])}?inc=url-rels&fmt=json')\n",
        "        if response.ok:\n",
        "            data = response.json()\n",
        "            data = dict(data)\n",
        "            return data['name']\n",
        "\n",
        "\n",
        "\n",
        "    def get_mappingList(self,init,end,increm=500):\n",
        "        Lmusicbrainz_id=self.mb[init:end] #We can specify the range of the artists of our interest, for the purpose of this NN task\n",
        "        length=len(Lmusicbrainz_id)       #we will take all of them into consideration.\n",
        "        c=0\n",
        "        for i in range(len(Lmusicbrainz_id)):\n",
        "            mapp=self.get_mapping(i)   #get_mapping method again.\n",
        "            if mapp==None:\n",
        "                while mapp==None:\n",
        "                    mapp=self.get_mapping(i)\n",
        "                    \n",
        "            if mapp!=\"Not found\":   #Some of the ids has not a respective allmusic id, so we lose that information\n",
        "                mapp=str(mapp)      #Mapp are strings of links\n",
        "                key=mapp[-12:]\n",
        "                self.artists[key]=i\n",
        "            c+=1\n",
        "            if c%increm==0 or c==30:\n",
        "                    print(\"{}/{} artists were processed\".format(c,length)) #This is just to keep track of the processed artist\n",
        "                    \n",
        "            \n",
        "        self.save_data(self.artists,'MsbMapped1.json')  #We do save the Artists Ids map, this function, when called, takes a lot\n",
        "                                                        #of time, for this reason its result is already saved in the file:\n",
        "        return self.artists                             # 'MsbMapped1.json'\n",
        "    \n",
        "    \n",
        "    def get_GraphDict(self,name='MsbMapped.json',increm=500):\n",
        "        session=HTMLSession()\n",
        "        c=0 #Counter\n",
        "        artID=self.load_data(name) #We load the mapped artists (between MusicBrainz Ids, and AllMusic Ids)\n",
        "        # print(len(artID)\n",
        "        length=len(artID.keys())\n",
        "        for k in artID.keys(): #dict of mapped mbids, this has to be computed before from getmapping\n",
        "            if k!=None:\n",
        "                url='https://www.allmusic.com/artist/'+ k+ '/related' #k is just the code, every link for the artist is distinguished \n",
        "                r=session.get(url)                                    #by a unique code in the link.\n",
        "                sess=r.html.find('body',first=True)\n",
        "                div=sess.find('.overflow-container')                  #The information of the related artists are exctracted\n",
        "                divn=div[0]                                           #from the html of the allmusic's related web page\n",
        "                divn=divn.find('.content-container')\n",
        "                divn=divn[0]\n",
        "                divn=divn.find('.content')\n",
        "                divn=divn[0]\n",
        "                divn=divn.find('section',first=True)\n",
        "                if divn==None:\n",
        "                    self.d[artID[k]]=[] #That artist has not related artists (or we have missing information)\n",
        "                    continue\n",
        "                artists=divn.find('li')\n",
        "                artistL=[]\n",
        "\n",
        "\n",
        "                for i in range(len(artists)):\n",
        "                    art=artists[i]\n",
        "                    art=art.find('a')            #We look for all the k's related artists links\n",
        "                    link=list(art[0].absolute_links)[0] #Absolute_link returns a one-element set, that we convert into a list and\n",
        "                    link=str(link)[-12:]                #we get its code\n",
        "                    if link in artID.keys(): #g is the dict of all the mapped musicbrainz_ids\n",
        "                        artistL.append(self.artists[link]) #Some of the related artists may not be in the musicbrainz_ids list.\n",
        "                self.d[artID[k]]=artistL\n",
        "                c+=1\n",
        "                if c%increm==0 or c==30:\n",
        "                    print(\"{}/{} artists were processed\".format(c,length))\n",
        "        self.save_data(self.d,'graphSimilarities1.json') #Here we save the connection amongst the artists, obtained with this method\n",
        "        print(\"Done...\")     #Also it takes some time to process, for this reason the result of this method can be \n",
        "        return self.d        #found at the 'graphSimilarities.json' file.\n",
        "\n",
        "    def get_genres(self,name='MsbMapped.json',increm=500):\n",
        "        \n",
        "        c=0 #Counter\n",
        "        artID=self.load_data(name) #We load the mapped artists (between MusicBrainz Ids, and AllMusic Ids)\n",
        "        valid_ids = sorted(list(artID.values()))\n",
        "        self.occurrencies = {}\n",
        "        self.artist_genre = {}\n",
        "        print('Num of artist: {}', len(valid_ids))\n",
        "        self.lost = 0\n",
        "        for artist_num in range(len(valid_ids)):\n",
        "          print(\"n° of genres: \", len(self.occurrencies))\n",
        "          print('Artist {}/{}'.format(artist_num, len(valid_ids)))\n",
        "          art_id = self.olga.iloc[valid_ids[artist_num], 1]\n",
        "          result = mbr.get_artist_by_id(art_id,\n",
        "              includes=['tags'])\n",
        "          \n",
        "          if 'tag-list' in result['artist']:\n",
        "            genre_list = [genre['name'] for genre in result['artist']['tag-list']]\n",
        "            genre_count = [{genre['count']: genre['name']} for genre in result['artist']['tag-list']]\n",
        "            self.artist_genre[artist_num] = genre_count, result['artist']['name']\n",
        "            \n",
        "\n",
        "            for genre in genre_list:\n",
        "              if genre not in self.occurrencies:\n",
        "                self.occurrencies[genre] = 1\n",
        "              else:\n",
        "                self.occurrencies[genre] += 1\n",
        "          else:\n",
        "            self.lost += 1\n",
        "            print('Lost artist {}'.format(self.lost))\n",
        "            self.artist_genre[artist_num] = [], result['artist']['name']\n",
        "\n",
        "\n",
        "        return \n",
        "    def get_artist_genres(self, art_genre, genres):\n",
        "        self.artist_genre = {}\n",
        "        for key in art_genre:\n",
        "            if art_genre[key][0] == []:\n",
        "                self.artist_genre[int(key)] = []\n",
        "                # print(art_genre[key])\n",
        "            else:\n",
        "                # print()\n",
        "                genre_c = art_genre[key][0]\n",
        "                genre_c = list(map(self.trans_function, genre_c))\n",
        "                importance_list = [int(list(genre_c[element].keys())[0]) for element in range(len(genre_c))]\n",
        "                new = sorted(range(len(importance_list)), key = lambda k: importance_list[k], reverse = True)\n",
        "                c = False\n",
        "                for genre_idx in new:\n",
        "                    current_g = list(genre_c[genre_idx].values())[0]\n",
        "                    if current_g in genres:\n",
        "                        print(current_g)\n",
        "                        self.artist_genre[int(key)] = current_g\n",
        "                        c = True\n",
        "                        break\n",
        "                if c:\n",
        "                    continue\n",
        "                \n",
        "                candidate_diz = {}\n",
        "                idx_diz = {}\n",
        "                for element in range(len(new)):\n",
        "                    points = {most_c : sentence_selector(list(genre_c[new[element]].values())[0] + ' is the genre played by '+ art_genre[key][1]).similarity(sentence_selector(most_c + ' is the genre played by '+ art_genre[key][1])) for most_c in genres}\n",
        "                    candidate_diz[max(points, key = points.get)] = max(list(points.values()))\n",
        "                    idx_diz[max(points, key = points.get)] = element\n",
        "                self.artist_genre[int(key)] = max(candidate_diz, key = candidate_diz.get)\n",
        "                print(\"Assigned to {}, the {} genre from {}....\".format(art_genre[key][1], max(candidate_diz, key = candidate_diz.get), list(genre_c[idx_diz[max(candidate_diz, key = candidate_diz.get)]].values())[0]))\n",
        "    \n",
        "    def fill_unassigned_artists(self, data_genres_copy, adj):\n",
        "\n",
        "        for idx in data_genres_copy:\n",
        "            if data_genres_copy[idx] == []:\n",
        "                ciao = list(map(int, list(torch.nonzero(adj[int(idx), :]))))\n",
        "                l = []\n",
        "                for el in ciao:\n",
        "                    if data_genres_copy[str(el)] != []:\n",
        "                        l.append(data_genres_copy[str(el)])\n",
        "                        \n",
        "                if len(l) == 0:\n",
        "                    data_genres_copy[idx] = random.sample(genres, 1)[0]\n",
        "                else:\n",
        "                    data_genres_copy[idx] = self.most_common_policy(l)\n",
        "        return data_genres_copy\n",
        "    \n",
        "    \n",
        "    @staticmethod\n",
        "    def get_the_Kmost_rated_genre(diz, k):\n",
        "        l = []\n",
        "        for i in range(k):\n",
        "            key = max(diz, key = diz.get)\n",
        "            l.append({key: diz[key]})\n",
        "            diz.pop(key)\n",
        "        return l\n",
        "    @staticmethod\n",
        "    def trans_function(el):\n",
        "        k = list(el.keys())[0]\n",
        "        v = list(el.values())[0]\n",
        "    \n",
        "        if v in transitions:\n",
        "        \n",
        "            el[k] = transitions[v]\n",
        "        return el\n",
        "    @staticmethod\n",
        "    def most_common_policy(l):\n",
        "        # Take the most common among the neighbors. If there are two alternative take the more specific name (The one with less count in the occurrencies)\n",
        "        counter_diz = Counter(l).most_common()\n",
        "        maximum = counter_diz[0][1]\n",
        "        genre_c = counter_diz[0][0]\n",
        "        minimum = occurrencies[genre_c]\n",
        "        for el in counter_diz:\n",
        "            if el[1] < maximum:\n",
        "                break\n",
        "            if occurrencies[el[0]] < minimum:\n",
        "                genre_c = el[0]\n",
        "                minimum = occurrencies[el[0]]\n",
        "        return genre_c\n",
        "\n",
        "ol = DatasetOlga(olga)"
      ]
    },
    {
      "cell_type": "code",
      "execution_count": null,
      "id": "0637e046",
      "metadata": {},
      "outputs": [],
      "source": [
        "ol.get_artist_genres(art_genre, genres)"
      ]
    },
    {
      "cell_type": "code",
      "execution_count": 98,
      "id": "c38feff5",
      "metadata": {},
      "outputs": [],
      "source": [
        "diz = Counter(occurrencies).most_common()\n",
        "label_diz = {diz[idx][0] : idx for idx in range(len(diz))}\n"
      ]
    },
    {
      "cell_type": "code",
      "execution_count": 107,
      "id": "7e6da0fa",
      "metadata": {},
      "outputs": [
        {
          "data": {
            "text/plain": [
              "{'jazz': 0,\n",
              " 'hip hop': 1,\n",
              " 'rock': 2,\n",
              " 'indie': 3,\n",
              " 'pop': 4,\n",
              " 'alternative rock': 5,\n",
              " 'metal': 6,\n",
              " 'folk': 7,\n",
              " 'pop rock': 8,\n",
              " 'electronic': 9,\n",
              " 'r&b': 10,\n",
              " 'punk': 11,\n",
              " 'dance': 12,\n",
              " 'hard rock': 13,\n",
              " 'soul': 14,\n",
              " 'blues': 15,\n",
              " 'country': 16,\n",
              " 'classical': 17,\n",
              " 'latin': 18,\n",
              " 'progressive rock': 19,\n",
              " 'new wave': 20,\n",
              " 'funk': 21,\n",
              " 'reggae': 22,\n",
              " 'ambient': 23,\n",
              " 'psychedelic rock': 24,\n",
              " 'house': 25}"
            ]
          },
          "execution_count": 107,
          "metadata": {},
          "output_type": "execute_result"
        }
      ],
      "source": [
        "label_diz"
      ]
    },
    {
      "cell_type": "code",
      "execution_count": 104,
      "id": "8427a362",
      "metadata": {},
      "outputs": [],
      "source": [
        "label = torch.tensor(lista)"
      ]
    },
    {
      "cell_type": "code",
      "execution_count": 101,
      "id": "66566d0f",
      "metadata": {},
      "outputs": [],
      "source": [
        "lista = []\n",
        "for element in data_genres_copy:\n",
        "    lista.append(label_diz[data_genres_copy[element]])"
      ]
    }
  ],
  "metadata": {
    "accelerator": "GPU",
    "colab": {
      "provenance": []
    },
    "kernelspec": {
      "display_name": "Python 3 (ipykernel)",
      "language": "python",
      "name": "python3"
    },
    "language_info": {
      "codemirror_mode": {
        "name": "ipython",
        "version": 3
      },
      "file_extension": ".py",
      "mimetype": "text/x-python",
      "name": "python",
      "nbconvert_exporter": "python",
      "pygments_lexer": "ipython3",
      "version": "3.10.6"
    }
  },
  "nbformat": 4,
  "nbformat_minor": 5
}
